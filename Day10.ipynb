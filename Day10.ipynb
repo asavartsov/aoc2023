{
 "cells": [
  {
   "cell_type": "code",
   "execution_count": 704,
   "metadata": {},
   "outputs": [],
   "source": [
    "with open('data/10.txt', 'r') as file:\n",
    "    data = file.read().splitlines()\n",
    "\n",
    "for idx, line in enumerate(data):\n",
    "    if 'S' in line:\n",
    "        startx, starty = line.index('S'), idx\n",
    "        data[starty] = line[:startx] + 'F' + line[startx + 1:]\n",
    "        break\n",
    "\n",
    "sizex, sizey = len(data[0]), len(data)"
   ]
  },
  {
   "cell_type": "code",
   "execution_count": 705,
   "metadata": {},
   "outputs": [
    {
     "data": {
      "text/plain": [
       "6864"
      ]
     },
     "execution_count": 705,
     "metadata": {},
     "output_type": "execute_result"
    }
   ],
   "source": [
    "import numpy\n",
    "\n",
    "pipes = {\n",
    "    '|': [[-1,  0, '7F|'], [1,  0, 'LJ|']],\n",
    "    '-': [[ 0, -1, 'LF-'], [0,  1, 'J7-']],\n",
    "    'L': [[-1,  0, '7F|'], [0,  1, 'J7-']],\n",
    "    'J': [[-1,  0, '7F|'], [0, -1, 'LF-']],\n",
    "    '7': [[ 1,  0, 'LJ|'], [0, -1, 'LF-']],\n",
    "    'F': [[ 1,  0, 'LJ|'], [0,  1, 'J7-']],\n",
    "}\n",
    "\n",
    "def neigbours(x, y):\n",
    "    pipe = data[y][x]\n",
    "\n",
    "    for dy, dx, adj in pipes[pipe]:\n",
    "        nx, ny = x + dx, y + dy\n",
    "\n",
    "        if 0 < nx >= sizex or 0 < ny >= sizey:\n",
    "            continue\n",
    "\n",
    "        if data[ny][nx] in adj:\n",
    "            yield nx, ny\n",
    "\n",
    "def walk(x, y, depthFirst = False):\n",
    "    path = numpy.ndarray([len(data), len(data[0])], numpy.int32)\n",
    "    path.fill(0)\n",
    "    path[starty, startx] = 1\n",
    "    distance = 0\n",
    "    visited = [(x, y)]\n",
    "    queue = [(x, y, distance)]\n",
    "\n",
    "    while queue:\n",
    "        x, y, d = queue.pop(-1 if depthFirst else 0)\n",
    "\n",
    "        for x, y in neigbours(x, y):\n",
    "            if (x, y) not in visited:\n",
    "                queue.append((x, y, d + 1))\n",
    "                visited.append((x, y))\n",
    "\n",
    "                path[y, x] = 1\n",
    "                distance = max(d + 1, distance)\n",
    "    \n",
    "    return distance, visited, path\n",
    "\n",
    "distance, _, _ = walk(startx, starty)\n",
    "distance"
   ]
  },
  {
   "cell_type": "code",
   "execution_count": 706,
   "metadata": {},
   "outputs": [
    {
     "data": {
      "text/plain": [
       "349"
      ]
     },
     "execution_count": 706,
     "metadata": {},
     "output_type": "execute_result"
    }
   ],
   "source": [
    "import shapely\n",
    "\n",
    "_, visited, path = walk(startx, starty, True)\n",
    "\n",
    "polygon = shapely.Polygon(visited)\n",
    "inside = 0\n",
    "\n",
    "for y, x in numpy.transpose(numpy.nonzero(path == 0)):\n",
    "    if shapely.Point(x, y).within(polygon):\n",
    "        inside += 1\n",
    "\n",
    "inside"
   ]
  }
 ],
 "metadata": {
  "kernelspec": {
   "display_name": "Python 3",
   "language": "python",
   "name": "python3"
  },
  "language_info": {
   "codemirror_mode": {
    "name": "ipython",
    "version": 3
   },
   "file_extension": ".py",
   "mimetype": "text/x-python",
   "name": "python",
   "nbconvert_exporter": "python",
   "pygments_lexer": "ipython3",
   "version": "3.11.5"
  }
 },
 "nbformat": 4,
 "nbformat_minor": 2
}
