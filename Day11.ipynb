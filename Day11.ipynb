{
 "cells": [
  {
   "cell_type": "code",
   "execution_count": 54,
   "metadata": {},
   "outputs": [],
   "source": [
    "import numpy\n",
    "\n",
    "galaxy = []\n",
    "\n",
    "with open('data/11.txt', 'r') as file:\n",
    "    for line in file.read().splitlines():\n",
    "        galaxy.append([1 if x == '#' else 0 for x in line])\n",
    "\n",
    "galaxy = numpy.array(galaxy, numpy.int8)\n",
    "(rows,), (cols,) = numpy.where(~galaxy.any(axis=1)), numpy.where(~galaxy.any(axis=0))\n",
    "\n",
    "def expand(dillation):\n",
    "    expanded = []\n",
    "\n",
    "    for (x, y), element in numpy.ndenumerate(galaxy):\n",
    "        if element:\n",
    "            (dx,), (dy,) = numpy.where(rows < x), numpy.where(cols < y)\n",
    "            point = [x + len(dx) * (dillation - 1), y + len(dy) * (dillation - 1)]\n",
    "            \n",
    "            expanded.append(point)\n",
    "    return expanded"
   ]
  },
  {
   "cell_type": "code",
   "execution_count": 55,
   "metadata": {},
   "outputs": [
    {
     "data": {
      "text/plain": [
       "9609130"
      ]
     },
     "execution_count": 55,
     "metadata": {},
     "output_type": "execute_result"
    }
   ],
   "source": [
    "import itertools\n",
    "\n",
    "def distance(a, b):\n",
    "    return abs(a[0] - b[0]) + abs(a[1] - b[1])\n",
    "\n",
    "pairs = itertools.combinations(expand(2), 2)\n",
    "sum([distance(a, b) for (a, b) in pairs])"
   ]
  },
  {
   "cell_type": "code",
   "execution_count": 56,
   "metadata": {},
   "outputs": [
    {
     "data": {
      "text/plain": [
       "702152204842"
      ]
     },
     "execution_count": 56,
     "metadata": {},
     "output_type": "execute_result"
    }
   ],
   "source": [
    "pairs = itertools.combinations(expand(1000000), 2)\n",
    "sum([distance(a, b) for (a, b) in pairs])"
   ]
  }
 ],
 "metadata": {
  "kernelspec": {
   "display_name": "Python 3",
   "language": "python",
   "name": "python3"
  },
  "language_info": {
   "codemirror_mode": {
    "name": "ipython",
    "version": 3
   },
   "file_extension": ".py",
   "mimetype": "text/x-python",
   "name": "python",
   "nbconvert_exporter": "python",
   "pygments_lexer": "ipython3",
   "version": "3.11.5"
  }
 },
 "nbformat": 4,
 "nbformat_minor": 2
}
