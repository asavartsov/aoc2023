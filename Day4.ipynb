{
 "cells": [
  {
   "cell_type": "code",
   "execution_count": 26,
   "metadata": {},
   "outputs": [
    {
     "data": {
      "text/plain": [
       "24733"
      ]
     },
     "execution_count": 26,
     "metadata": {},
     "output_type": "execute_result"
    }
   ],
   "source": [
    "import re\n",
    "\n",
    "total = 0\n",
    "\n",
    "with open('data/04.txt', 'r') as file:\n",
    "    for line in file.readlines():\n",
    "        numbers = list(map(int, re.findall(r'\\d+', line)))\n",
    "        points = 0\n",
    "\n",
    "        id, card, wins = numbers[0], numbers[1:11], numbers[11:]\n",
    "\n",
    "        points = len(set(card) & set(wins)) - 1\n",
    "\n",
    "        if points >= 0:\n",
    "            total += 2 ** points\n",
    "\n",
    "total\n"
   ]
  },
  {
   "cell_type": "code",
   "execution_count": 29,
   "metadata": {},
   "outputs": [
    {
     "data": {
      "text/plain": [
       "5422730"
      ]
     },
     "execution_count": 29,
     "metadata": {},
     "output_type": "execute_result"
    }
   ],
   "source": [
    "import re\n",
    "\n",
    "games = []\n",
    "cards = []\n",
    "\n",
    "with open('data/04.txt', 'r') as file:\n",
    "    for line in file.readlines():\n",
    "        numbers = list(map(int, re.findall(r'\\d+', line)))\n",
    "\n",
    "        id, card, wins = numbers[0], numbers[1:11], numbers[11:]\n",
    "\n",
    "        games.append(len(set(card) & set(wins)))\n",
    "        cards.append(1)\n",
    "\n",
    "for i in range(len(games)):\n",
    "    for j in range(0, games[i]):\n",
    "        if i + j + 1 < len(games):\n",
    "            cards[i + j + 1] += cards[i]\n",
    "\n",
    "sum(cards)"
   ]
  }
 ],
 "metadata": {
  "kernelspec": {
   "display_name": "Python 3",
   "language": "python",
   "name": "python3"
  },
  "language_info": {
   "codemirror_mode": {
    "name": "ipython",
    "version": 3
   },
   "file_extension": ".py",
   "mimetype": "text/x-python",
   "name": "python",
   "nbconvert_exporter": "python",
   "pygments_lexer": "ipython3",
   "version": "3.9.16"
  }
 },
 "nbformat": 4,
 "nbformat_minor": 2
}
