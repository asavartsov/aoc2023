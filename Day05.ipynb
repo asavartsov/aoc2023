{
 "cells": [
  {
   "cell_type": "markdown",
   "metadata": {},
   "source": [
    "## Read input"
   ]
  },
  {
   "cell_type": "code",
   "execution_count": 209,
   "metadata": {},
   "outputs": [],
   "source": [
    "import re\n",
    "\n",
    "total = 0\n",
    "\n",
    "with open('data/05.txt', 'r') as file:\n",
    "    seeds = list(map(int, re.findall(r'\\d+', file.readline())))\n",
    "    maps = {}\n",
    "    key = ''\n",
    "\n",
    "    for line in file.readlines():\n",
    "        if 'map' in line:\n",
    "            key = re.split(' |-', line)[2]\n",
    "            maps[key] = []\n",
    "            continue\n",
    "\n",
    "        if line.strip() == '':\n",
    "            continue\n",
    "\n",
    "        maps[key].append(list(map(int, re.findall(r'\\d+', line))))"
   ]
  },
  {
   "cell_type": "markdown",
   "metadata": {},
   "source": [
    "## Part 1"
   ]
  },
  {
   "cell_type": "code",
   "execution_count": 210,
   "metadata": {},
   "outputs": [
    {
     "data": {
      "text/plain": [
       "240320250"
      ]
     },
     "execution_count": 210,
     "metadata": {},
     "output_type": "execute_result"
    }
   ],
   "source": [
    "def get_from_map(source, key):\n",
    "    value = False\n",
    "\n",
    "    for destination, map_source, map_length in maps[key]:\n",
    "        if source in range(map_source, map_source + map_length):\n",
    "            if not value:\n",
    "                value = destination + source - map_source\n",
    "\n",
    "    return value if value else source\n",
    "\n",
    "locations = []\n",
    "\n",
    "for seed in seeds:\n",
    "    value = seed\n",
    "\n",
    "    for key in list(maps.keys()):\n",
    "        value = get_from_map(value, key)\n",
    "\n",
    "    locations.append(value)\n",
    "\n",
    "min(locations)"
   ]
  },
  {
   "cell_type": "markdown",
   "metadata": {},
   "source": [
    "## Part 2"
   ]
  },
  {
   "cell_type": "code",
   "execution_count": 211,
   "metadata": {},
   "outputs": [
    {
     "data": {
      "text/plain": [
       "28580589"
      ]
     },
     "execution_count": 211,
     "metadata": {},
     "output_type": "execute_result"
    }
   ],
   "source": [
    "def merge_intervals(intervals):\n",
    "    intervals.sort(key=lambda x: x[0])\n",
    "    index = 0\n",
    "\n",
    "    for i in range(1, len(intervals)):\n",
    "        if (intervals[index][1] + 1 >= intervals[i][0]):\n",
    "            intervals[index][1] = max(intervals[index][1], intervals[i][1])\n",
    "        else:\n",
    "            index = index + 1\n",
    "            intervals[index] = intervals[i]\n",
    " \n",
    "    return intervals[:index + 1]\n",
    "\n",
    "def get_from_range(start, length, key):\n",
    "    matched = []\n",
    "    end = start + length - 1\n",
    "    \n",
    "    for destination, map_start, map_length in maps[key]:\n",
    "        map_end = map_start + map_length - 1\n",
    "\n",
    "        if max(start, map_start) <= min(end, map_end):\n",
    "            new_start = max(start, map_start)\n",
    "            new_end = min(end, map_end)\n",
    "            new_length = (new_end - new_start) + 1\n",
    "\n",
    "            yield [destination + new_start - map_start, new_length]\n",
    "\n",
    "            matched.append([new_start, new_end])\n",
    "\n",
    "    matched = merge_intervals(matched)\n",
    "\n",
    "    if (len(matched) == 0):\n",
    "        yield [start, length]\n",
    "\n",
    "    for map_start, map_end in matched:\n",
    "        if start < map_start:\n",
    "            new_end = min(end, map_start - 1)\n",
    "            new_length = (new_end - start) + 1\n",
    "            yield [start, new_length]\n",
    "\n",
    "        if end > map_end:\n",
    "            new_start = max(start, map_end + 1)\n",
    "            new_length = (end - new_start) + 1\n",
    "            yield [new_start, new_length]\n",
    "\n",
    "locations = []\n",
    "keys = list(maps.keys())\n",
    "pairs = [seeds[i:i + 2] for i in range(0, len(seeds), 2)]\n",
    "\n",
    "for start, length in pairs:\n",
    "    queue = [[start, length, 'soil']]\n",
    "\n",
    "    while queue:\n",
    "        start, end, key = queue.pop(0)\n",
    "\n",
    "        for result in get_from_range(start, end, key):\n",
    "            next_key = keys.index(key) + 1\n",
    "\n",
    "            if next_key >= len(keys):\n",
    "                locations.append(result[0])\n",
    "            else:\n",
    "                queue.append([*result, keys[next_key]])\n",
    "\n",
    "min(locations)\n"
   ]
  }
 ],
 "metadata": {
  "kernelspec": {
   "display_name": "Python 3",
   "language": "python",
   "name": "python3"
  },
  "language_info": {
   "codemirror_mode": {
    "name": "ipython",
    "version": 3
   },
   "file_extension": ".py",
   "mimetype": "text/x-python",
   "name": "python",
   "nbconvert_exporter": "python",
   "pygments_lexer": "ipython3",
   "version": "3.9.16"
  }
 },
 "nbformat": 4,
 "nbformat_minor": 2
}
