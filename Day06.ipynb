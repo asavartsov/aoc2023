{
 "cells": [
  {
   "cell_type": "code",
   "execution_count": 14,
   "metadata": {},
   "outputs": [
    {
     "data": {
      "text/plain": [
       "(1312850, 36749103)"
      ]
     },
     "execution_count": 14,
     "metadata": {},
     "output_type": "execute_result"
    }
   ],
   "source": [
    "import re\n",
    "import math\n",
    "\n",
    "with open('data/06.txt', 'r') as file:\n",
    "    times = list(map(int, re.findall(r'\\d+', file.readline())))\n",
    "    distances = list(map(int, re.findall(r'\\d+', file.readline())))\n",
    "\n",
    "times.append(int(''.join(map(str, times))))\n",
    "distances.append(int(''.join(map(str, distances))))\n",
    "\n",
    "wins = []\n",
    "\n",
    "for i in range(len(times)):\n",
    "    t, d = times[i], distances[i]\n",
    "\n",
    "    min = math.floor((t - math.sqrt(t ** 2 - 4 * d)) / 2) + 1\n",
    "    max = math.ceil((t + math.sqrt(t ** 2 - 4 * d)) / 2) - 1\n",
    "\n",
    "    wins.append(max - min + 1)\n",
    "\n",
    "math.prod(wins[:-1]), wins[-1]"
   ]
  }
 ],
 "metadata": {
  "kernelspec": {
   "display_name": "Python 3",
   "language": "python",
   "name": "python3"
  },
  "language_info": {
   "codemirror_mode": {
    "name": "ipython",
    "version": 3
   },
   "file_extension": ".py",
   "mimetype": "text/x-python",
   "name": "python",
   "nbconvert_exporter": "python",
   "pygments_lexer": "ipython3",
   "version": "3.10.13"
  }
 },
 "nbformat": 4,
 "nbformat_minor": 2
}
