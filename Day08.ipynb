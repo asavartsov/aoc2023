{
 "cells": [
  {
   "cell_type": "code",
   "execution_count": 4,
   "metadata": {},
   "outputs": [],
   "source": [
    "import re\n",
    "\n",
    "with open('data/08.txt', 'r') as file:\n",
    "    data = file.read().splitlines()\n",
    "\n",
    "instructions = ['LR'.index(x) for x in data[0]]\n",
    "nodes = {}\n",
    "\n",
    "for line in data[2:]:\n",
    "    node = re.findall(r'[\\dA-Z]+', line)\n",
    "    nodes[node[0]] = node[1:]"
   ]
  },
  {
   "cell_type": "code",
   "execution_count": 5,
   "metadata": {},
   "outputs": [
    {
     "data": {
      "text/plain": [
       "19099"
      ]
     },
     "execution_count": 5,
     "metadata": {},
     "output_type": "execute_result"
    }
   ],
   "source": [
    "current = 'AAA'\n",
    "steps = 0\n",
    "\n",
    "while current != 'ZZZ':\n",
    "    instruction = instructions[steps % len(instructions)]\n",
    "    current = nodes[current][instruction]\n",
    "    steps += 1\n",
    "\n",
    "steps"
   ]
  },
  {
   "cell_type": "code",
   "execution_count": 6,
   "metadata": {},
   "outputs": [
    {
     "data": {
      "text/plain": [
       "17099847107071"
      ]
     },
     "execution_count": 6,
     "metadata": {},
     "output_type": "execute_result"
    }
   ],
   "source": [
    "import math\n",
    "\n",
    "def get_steps(current):\n",
    "    steps = 0\n",
    "\n",
    "    while not current.endswith('Z'):\n",
    "        instruction = instructions[steps % len(instructions)]\n",
    "        current = nodes[current][instruction]\n",
    "        steps += 1\n",
    "\n",
    "    return steps\n",
    "\n",
    "\n",
    "current = list(filter(lambda x: x.endswith('A'), nodes.keys()))\n",
    "math.lcm(*map(get_steps, current))"
   ]
  }
 ],
 "metadata": {
  "kernelspec": {
   "display_name": "Python 3 (ipykernel)",
   "language": "python",
   "name": "python3"
  },
  "language_info": {
   "codemirror_mode": {
    "name": "ipython",
    "version": 3
   },
   "file_extension": ".py",
   "mimetype": "text/x-python",
   "name": "python",
   "nbconvert_exporter": "python",
   "pygments_lexer": "ipython3",
   "version": "3.10.13"
  }
 },
 "nbformat": 4,
 "nbformat_minor": 4
}
