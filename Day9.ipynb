{
 "cells": [
  {
   "cell_type": "code",
   "execution_count": 28,
   "metadata": {},
   "outputs": [
    {
     "data": {
      "text/plain": [
       "\u001b[32mimport \u001b[39m\u001b[36mscala.io.Source\n",
       "\n",
       "\u001b[39m\n",
       "\u001b[36mfile\u001b[39m: \u001b[32mBufferedSource\u001b[39m = \u001b[32mempty iterator\u001b[39m\n",
       "\u001b[36mdata\u001b[39m: \u001b[32mIterator\u001b[39m[\u001b[32mString\u001b[39m] = \u001b[32mempty iterator\u001b[39m\n",
       "\u001b[36mhistory\u001b[39m: \u001b[32mList\u001b[39m[\u001b[32mList\u001b[39m[\u001b[32mInt\u001b[39m]] = \u001b[33mList\u001b[39m(\n",
       "  \u001b[33mList\u001b[39m(\n",
       "    \u001b[32m-5\u001b[39m,\n",
       "    \u001b[32m0\u001b[39m,\n",
       "    \u001b[32m14\u001b[39m,\n",
       "    \u001b[32m35\u001b[39m,\n",
       "    \u001b[32m64\u001b[39m,\n",
       "    \u001b[32m120\u001b[39m,\n",
       "    \u001b[32m276\u001b[39m,\n",
       "    \u001b[32m742\u001b[39m,\n",
       "    \u001b[32m2049\u001b[39m,\n",
       "    \u001b[32m5429\u001b[39m,\n",
       "    \u001b[32m13539\u001b[39m,\n",
       "    \u001b[32m31751\u001b[39m,\n",
       "    \u001b[32m70366\u001b[39m,\n",
       "    \u001b[32m148419\u001b[39m,\n",
       "    \u001b[32m300461\u001b[39m,\n",
       "    \u001b[32m589269\u001b[39m,\n",
       "    \u001b[32m1130567\u001b[39m,\n",
       "    \u001b[32m2141638\u001b[39m,\n",
       "    \u001b[32m4035732\u001b[39m,\n",
       "    \u001b[32m7600527\u001b[39m,\n",
       "    \u001b[32m14324252\u001b[39m\n",
       "  ),\n",
       "  \u001b[33mList\u001b[39m(\n",
       "    \u001b[32m12\u001b[39m,\n",
       "    \u001b[32m32\u001b[39m,\n",
       "    \u001b[32m65\u001b[39m,\n",
       "    \u001b[32m127\u001b[39m,\n",
       "    \u001b[32m242\u001b[39m,\n",
       "    \u001b[32m435\u001b[39m,\n",
       "    \u001b[32m720\u001b[39m,\n",
       "    \u001b[32m1091\u001b[39m,\n",
       "    \u001b[32m1536\u001b[39m,\n",
       "    \u001b[32m2105\u001b[39m,\n",
       "    \u001b[32m3067\u001b[39m,\n",
       "    \u001b[32m5179\u001b[39m,\n",
       "    \u001b[32m10050\u001b[39m,\n",
       "    \u001b[32m20500\u001b[39m,\n",
       "..."
      ]
     },
     "execution_count": 28,
     "metadata": {},
     "output_type": "execute_result"
    }
   ],
   "source": [
    "import scala.io.Source\n",
    "\n",
    "val file = Source.fromFile(\"data/09.txt\")\n",
    "val data = file.getLines.filter(_.nonEmpty)\n",
    "\n",
    "val history = data.map(_.split(\" \").toList.map(_.toInt)).toList"
   ]
  },
  {
   "cell_type": "code",
   "execution_count": 29,
   "metadata": {},
   "outputs": [
    {
     "data": {
      "text/plain": [
       "defined \u001b[32mfunction\u001b[39m \u001b[36mdiff\u001b[39m\n",
       "defined \u001b[32mfunction\u001b[39m \u001b[36mcycle\u001b[39m\n",
       "defined \u001b[32mfunction\u001b[39m \u001b[36mextrapolate\u001b[39m\n",
       "defined \u001b[32mfunction\u001b[39m \u001b[36mpredict\u001b[39m\n",
       "\u001b[36mres29_4\u001b[39m: \u001b[32mInt\u001b[39m = \u001b[32m2018412667\u001b[39m"
      ]
     },
     "execution_count": 29,
     "metadata": {},
     "output_type": "execute_result"
    }
   ],
   "source": [
    "def diff(list: Seq[Int]): Seq[Int] = \n",
    "    list.iterator.sliding(2).map(_.reduce(_-_).abs).toSeq\n",
    "\n",
    "def cycle(list: Seq[Int]): List[Seq[Int]] = \n",
    "    // if (list.size == 1) List(List(0))\n",
    "    println(list)\n",
    "\n",
    "    if (list.size == 1 || list.forall (_ == 0)) List(list)\n",
    "    else list +: cycle(diff(list))\n",
    "\n",
    "def extrapolate(list: Seq[Int]): Seq[Int] =\n",
    "    cycle(list).map(_.last).reverse\n",
    "\n",
    "def predict(list: Seq[Int]): Int = \n",
    "    (for x <- 1 to list.size yield list.take(x).sum).last\n",
    "\n",
    "(for h <- history yield predict(extrapolate(h))).sum"
   ]
  },
  {
   "cell_type": "markdown",
   "metadata": {},
   "source": []
  }
 ],
 "metadata": {
  "kernelspec": {
   "display_name": "Scala",
   "language": "scala",
   "name": "scala"
  },
  "language_info": {
   "codemirror_mode": "text/x-scala",
   "file_extension": ".sc",
   "mimetype": "text/x-scala",
   "name": "scala",
   "nbconvert_exporter": "script",
   "version": "2.13.12"
  }
 },
 "nbformat": 4,
 "nbformat_minor": 2
}
