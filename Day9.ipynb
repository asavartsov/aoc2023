{
 "cells": [
  {
   "cell_type": "code",
   "execution_count": null,
   "metadata": {},
   "outputs": [],
   "source": [
    "import scala.io.Source\n",
    "\n",
    "val file = Source.fromFile(\"data/09.txt\")\n",
    "val data = file.getLines.filter(_.nonEmpty)\n",
    "\n",
    "val history = data.map(_.split(\" \").toList.map(_.toInt)).toList"
   ]
  },
  {
   "cell_type": "code",
   "execution_count": 61,
   "metadata": {},
   "outputs": [
    {
     "data": {
      "text/plain": [
       "defined \u001b[32mfunction\u001b[39m \u001b[36mdiff\u001b[39m\n",
       "defined \u001b[32mfunction\u001b[39m \u001b[36mcycle\u001b[39m\n",
       "defined \u001b[32mfunction\u001b[39m \u001b[36mextrapolate\u001b[39m\n",
       "defined \u001b[32mfunction\u001b[39m \u001b[36mpredict\u001b[39m\n",
       "defined \u001b[32mfunction\u001b[39m \u001b[36mextrapolateBackwards\u001b[39m\n",
       "defined \u001b[32mfunction\u001b[39m \u001b[36mpredictBackwards\u001b[39m\n",
       "\u001b[36mres61_6\u001b[39m: \u001b[32mInt\u001b[39m = \u001b[32m1993300041\u001b[39m\n",
       "\u001b[36mres61_7\u001b[39m: \u001b[32mInt\u001b[39m = \u001b[32m1038\u001b[39m"
      ]
     },
     "execution_count": 61,
     "metadata": {},
     "output_type": "execute_result"
    }
   ],
   "source": [
    "def diff(list: Seq[Int]): Seq[Int] = \n",
    "    list.iterator.sliding(2).map(_.reverse.reduce(_-_)).toSeq\n",
    "\n",
    "def cycle(list: Seq[Int]): List[Seq[Int]] = \n",
    "    if (list.forall (_ == 0)) List(list)\n",
    "    else list +: cycle(diff(list))\n",
    "\n",
    "def extrapolate(list: Seq[Int]): Seq[Int] =\n",
    "    cycle(list).map(_.last).reverse\n",
    "\n",
    "def predict(list: Seq[Int]): Int = \n",
    "    (for x <- 1 to list.size yield list.take(x).sum).last\n",
    "\n",
    "def extrapolateBackwards(list: Seq[Int]): Seq[Int] =\n",
    "    cycle(list).map(_.head).reverse\n",
    "\n",
    "def predictBackwards(list: Seq[Int]): Int = \n",
    "    list.reduce ((a, b) => b - a)\n",
    "\n",
    "(for h <- history yield predict(extrapolate(h))).sum\n",
    "(for h <- history yield predictBackwards(extrapolateBackwards(h))).sum"
   ]
  },
  {
   "cell_type": "markdown",
   "metadata": {},
   "source": []
  }
 ],
 "metadata": {
  "kernelspec": {
   "display_name": "Scala",
   "language": "scala",
   "name": "scala"
  },
  "language_info": {
   "codemirror_mode": "text/x-scala",
   "file_extension": ".sc",
   "mimetype": "text/x-scala",
   "name": "scala",
   "nbconvert_exporter": "script",
   "version": "2.13.12"
  }
 },
 "nbformat": 4,
 "nbformat_minor": 2
}
