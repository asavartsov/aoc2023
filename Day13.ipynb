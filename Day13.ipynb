{
 "cells": [
  {
   "cell_type": "markdown",
   "metadata": {},
   "source": [
    "### Read file"
   ]
  },
  {
   "cell_type": "code",
   "execution_count": 1,
   "metadata": {},
   "outputs": [],
   "source": [
    "patterns = [[]]\n",
    "\n",
    "with open('data/13.txt', 'r') as file:\n",
    "    for line in file.read().splitlines():\n",
    "        if not line:\n",
    "            patterns.append([])\n",
    "        else:\n",
    "            patterns[-1].append(list(map(lambda x: x == '#', line)))\n"
   ]
  },
  {
   "cell_type": "markdown",
   "metadata": {},
   "source": [
    "### Check if row at x forms a mirror"
   ]
  },
  {
   "cell_type": "code",
   "execution_count": 2,
   "metadata": {},
   "outputs": [],
   "source": [
    "def check_row(p, x):\n",
    "    dx = 0\n",
    "\n",
    "    while x - dx >= 0 and x + dx + 1 < len(p):\n",
    "        if p[x - dx] != p[x + dx + 1]:\n",
    "            return False\n",
    "        dx += 1\n",
    "\n",
    "    return True"
   ]
  },
  {
   "cell_type": "markdown",
   "metadata": {},
   "source": [
    "### Part 1"
   ]
  },
  {
   "cell_type": "code",
   "execution_count": 3,
   "metadata": {},
   "outputs": [
    {
     "data": {
      "text/plain": [
       "35538"
      ]
     },
     "execution_count": 3,
     "metadata": {},
     "output_type": "execute_result"
    }
   ],
   "source": [
    "def find_mirror_row(pattern):\n",
    "    for row in range(len(pattern)):\n",
    "        if check_row(pattern, row):\n",
    "            return row + 1 if row < len(pattern) - 1 else None\n",
    "        \n",
    "def get_mirror_number(pattern):\n",
    "    if x := find_mirror_row(pattern):\n",
    "        return x * 100\n",
    "\n",
    "    if x := find_mirror_row(list(map(list, zip(*pattern)))):\n",
    "        return x\n",
    "\n",
    "sum(map(get_mirror_number, patterns))"
   ]
  },
  {
   "cell_type": "markdown",
   "metadata": {},
   "source": [
    "### Part 2"
   ]
  },
  {
   "cell_type": "code",
   "execution_count": 4,
   "metadata": {},
   "outputs": [
    {
     "data": {
      "text/plain": [
       "30442"
      ]
     },
     "execution_count": 4,
     "metadata": {},
     "output_type": "execute_result"
    }
   ],
   "source": [
    "def xor(row1, row2):\n",
    "    return list(map(lambda pair: pair[0] ^ pair[1], zip(row1, row2)))\n",
    "\n",
    "def fix(pattern, row):\n",
    "    dx = 0\n",
    "\n",
    "    while row - dx >= 0 and row + dx + 1 < len(pattern):\n",
    "        diff = xor(pattern[row - dx], pattern[row + dx + 1])\n",
    "\n",
    "        if diff.count(True) == 1:\n",
    "            new = pattern[:]\n",
    "            new[row - dx] = xor(new[row - dx], diff)\n",
    "            yield new\n",
    "\n",
    "            new = pattern[:]\n",
    "            new[row + dx + 1] = xor(new[row + dx + 1], diff)\n",
    "            yield new\n",
    "\n",
    "            break\n",
    "\n",
    "        dx += 1\n",
    "\n",
    "def find_mirror_row(pattern):\n",
    "    for row in range(len(pattern)):\n",
    "        for fixed in fix(pattern, row):\n",
    "            if check_row(fixed, row):\n",
    "                return row + 1 if row < len(fixed) - 1 else None\n",
    "\n",
    "sum(map(get_mirror_number, patterns))"
   ]
  }
 ],
 "metadata": {
  "kernelspec": {
   "display_name": "Python 3",
   "language": "python",
   "name": "python3"
  },
  "language_info": {
   "codemirror_mode": {
    "name": "ipython",
    "version": 3
   },
   "file_extension": ".py",
   "mimetype": "text/x-python",
   "name": "python",
   "nbconvert_exporter": "python",
   "pygments_lexer": "ipython3",
   "version": "3.10.13"
  }
 },
 "nbformat": 4,
 "nbformat_minor": 2
}
