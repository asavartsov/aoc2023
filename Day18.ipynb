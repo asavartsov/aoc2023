{
 "cells": [
  {
   "cell_type": "code",
   "execution_count": 194,
   "metadata": {},
   "outputs": [],
   "source": [
    "plan = []\n",
    "\n",
    "with open('data/18.txt', 'r') as file:\n",
    "    for line in file.read().splitlines():\n",
    "        direction, meters, color = line.split(' ')\n",
    "        plan.append((direction, int(meters), color.strip('()')))"
   ]
  },
  {
   "cell_type": "code",
   "execution_count": 195,
   "metadata": {},
   "outputs": [
    {
     "data": {
      "text/plain": [
       "48400.0"
      ]
     },
     "execution_count": 195,
     "metadata": {},
     "output_type": "execute_result"
    }
   ],
   "source": [
    "points = [(0, 0)]\n",
    "perimeter = 0\n",
    "\n",
    "directions = { \n",
    "    'R': [  0,  1], 'U': [ -1,  0],\n",
    "    'L': [  0, -1], 'D': [  1,  0]\n",
    "}\n",
    "\n",
    "def area(points):\n",
    "    area = 0\n",
    "    for i in range(1, len(points)):\n",
    "        # ½Σ(Yi + Yi+1) * (Xi - Xi+1)\n",
    "        area += 0.5 * (points[i - 1][0] + points[i][0]) * (points[i - 1][1] - points[i][1])\n",
    "\n",
    "    return area\n",
    "\n",
    "for direction, meters, _ in plan:\n",
    "    d = directions[direction]\n",
    "    p = points[-1]\n",
    "\n",
    "    p = (p[0] + d[0] * meters, p[1] + d[1] * meters)\n",
    "    points.append(p)\n",
    "    perimeter += meters\n",
    "\n",
    "area(points) + perimeter / 2 + 1"
   ]
  },
  {
   "cell_type": "code",
   "execution_count": 196,
   "metadata": {},
   "outputs": [
    {
     "data": {
      "text/plain": [
       "72811019847283.0"
      ]
     },
     "execution_count": 196,
     "metadata": {},
     "output_type": "execute_result"
    }
   ],
   "source": [
    "points = [(0, 0)]\n",
    "perimeter = 0\n",
    "\n",
    "for _, _, color in plan:\n",
    "    meters, direction = int(color[1:6], 16), 'RDLU'[int(color[6:])]\n",
    "\n",
    "    d = directions[direction]\n",
    "    p = points[-1]\n",
    "\n",
    "    p = (p[0] + d[0] * meters, p[1] + d[1] * meters)\n",
    "    points.append(p)\n",
    "    perimeter += meters\n",
    "\n",
    "area(points) + perimeter / 2 + 1"
   ]
  }
 ],
 "metadata": {
  "kernelspec": {
   "display_name": "Python 3",
   "language": "python",
   "name": "python3"
  },
  "language_info": {
   "codemirror_mode": {
    "name": "ipython",
    "version": 3
   },
   "file_extension": ".py",
   "mimetype": "text/x-python",
   "name": "python",
   "nbconvert_exporter": "python",
   "pygments_lexer": "ipython3",
   "version": "3.11.5"
  }
 },
 "nbformat": 4,
 "nbformat_minor": 2
}
