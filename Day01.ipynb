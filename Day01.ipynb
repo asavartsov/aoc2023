{
 "cells": [
  {
   "cell_type": "code",
   "execution_count": 153,
   "metadata": {},
   "outputs": [
    {
     "data": {
      "text/plain": [
       "54630"
      ]
     },
     "execution_count": 153,
     "metadata": {},
     "output_type": "execute_result"
    }
   ],
   "source": [
    "import re\n",
    "\n",
    "sum = 0\n",
    "\n",
    "with open('data/01.txt', 'r') as file:\n",
    "    for line in file.readlines():\n",
    "        didits = list(map(int, re.findall(r'\\d', line)))\n",
    "        sum += didits[0] * 10 + didits[-1]\n",
    "\n",
    "sum"
   ]
  },
  {
   "cell_type": "code",
   "execution_count": 154,
   "metadata": {},
   "outputs": [
    {
     "data": {
      "text/plain": [
       "54770"
      ]
     },
     "execution_count": 154,
     "metadata": {},
     "output_type": "execute_result"
    }
   ],
   "source": [
    "sum = 0\n",
    "words = list(map(str, range(10))) + ['0', 'one', 'two', 'three', 'four', 'five', 'six', 'seven', 'eight', 'nine']\n",
    "\n",
    "with open('data/01.txt', 'r') as file:\n",
    "    for line in file.readlines():\n",
    "        min_left, max_right = len(line), 0\n",
    "        num_left, num_right = 0, 0\n",
    "\n",
    "        for idx, word in enumerate(words):\n",
    "            left, right = line.find(word), line.rfind(word)\n",
    "\n",
    "            if left >= 0 and left <= min_left:\n",
    "                num_left, min_left = idx % 10, left\n",
    "\n",
    "            if right >= 0 and right >= max_right:\n",
    "                num_right, max_right = idx % 10, right\n",
    "\n",
    "        sum = sum + num_left * 10 + num_right\n",
    "\n",
    "sum"
   ]
  }
 ],
 "metadata": {
  "kernelspec": {
   "display_name": "Python 3",
   "language": "python",
   "name": "python3"
  },
  "language_info": {
   "codemirror_mode": {
    "name": "ipython",
    "version": 3
   },
   "file_extension": ".py",
   "mimetype": "text/x-python",
   "name": "python",
   "nbconvert_exporter": "python",
   "pygments_lexer": "ipython3",
   "version": "3.9.16"
  }
 },
 "nbformat": 4,
 "nbformat_minor": 2
}
