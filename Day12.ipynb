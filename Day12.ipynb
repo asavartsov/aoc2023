{
 "cells": [
  {
   "cell_type": "markdown",
   "metadata": {},
   "source": [
    "### Part 1\n",
    "\n",
    "Brute-force"
   ]
  },
  {
   "cell_type": "code",
   "execution_count": 32,
   "metadata": {},
   "outputs": [
    {
     "data": {
      "text/plain": [
       "7792"
      ]
     },
     "execution_count": 32,
     "metadata": {},
     "output_type": "execute_result"
    }
   ],
   "source": [
    "with open('data/12.txt', 'r') as file:\n",
    "    data = file.read().splitlines()\n",
    "\n",
    "def match(springs, records):\n",
    "    pattern = []\n",
    "    counter = 0\n",
    "    for c in springs:\n",
    "        if c == '#':\n",
    "            counter += 1\n",
    "        elif counter > 0:\n",
    "            pattern.append(counter)\n",
    "            counter = 0\n",
    "\n",
    "    if counter > 0:\n",
    "        pattern.append(counter)\n",
    "\n",
    "    return pattern == records\n",
    "\n",
    "def build(template, number):\n",
    "    count, new = 0, []\n",
    "\n",
    "    for c in template:\n",
    "        if c == '?':\n",
    "            new.append('#' if ((number >> count) & 1) else '.')\n",
    "            count += 1\n",
    "        else:\n",
    "            new.append(c)\n",
    "    return new\n",
    "\n",
    "result = 0\n",
    "\n",
    "def count(line, records):\n",
    "    combinations = 0\n",
    "    springs = list(line)\n",
    "    unknown = len(list(filter(lambda x: x == '?', springs)))\n",
    "\n",
    "    for number in range(2 ** unknown):\n",
    "        if match(build(springs, number), records):\n",
    "            combinations += 1\n",
    "\n",
    "    return combinations\n",
    "\n",
    "for line in data:\n",
    "    line, records = line.split(' ')\n",
    "    \n",
    "    records = list(map(int, records.split(',')))\n",
    "    result += count(line, records)\n",
    "\n",
    "result\n"
   ]
  },
  {
   "cell_type": "markdown",
   "metadata": {},
   "source": [
    "### Part 2"
   ]
  },
  {
   "cell_type": "code",
   "execution_count": 7,
   "metadata": {},
   "outputs": [
    {
     "data": {
      "text/plain": [
       "13012052341533"
      ]
     },
     "execution_count": 7,
     "metadata": {},
     "output_type": "execute_result"
    }
   ],
   "source": [
    "import functools\n",
    "\n",
    "with open('data/12.txt', 'r') as file:\n",
    "    data = file.read().splitlines()\n",
    "\n",
    "total = 0\n",
    "\n",
    "@functools.cache\n",
    "def count(line, records):\n",
    "    current, line = 0, line.strip('.')\n",
    "\n",
    "    if not line or not records:\n",
    "        return 1 if not records and not '#' in line else 0\n",
    "    elif line[0] == '?':\n",
    "        current += count(line[1:], records)\n",
    "        current += count('#' + line[1:], records)\n",
    "    elif line[0] == '#':\n",
    "        # Possible match\n",
    "        if (len(line) >= records[0] and not '.' in line[:records[0]]):\n",
    "            if len(records) > 1:\n",
    "                # Move on only if there is a space for at least one operational spring\n",
    "                if len(line) > records[0] and line[records[0]] in '.?':\n",
    "                    # Skip operational spring right away\n",
    "                    current += count(line[records[0] + 1:], records[1:])\n",
    "            else:\n",
    "                current += count(line[records[0]:], records[1:])\n",
    "\n",
    "    return current\n",
    "        \n",
    "for line in data:\n",
    "    line, records = line.split(' ')\n",
    "    records = tuple(map(int, records.split(',')))\n",
    "\n",
    "    line, records = '?'.join([line] * 5), records * 5\n",
    "    total += count(line, records)\n",
    "\n",
    "total"
   ]
  }
 ],
 "metadata": {
  "kernelspec": {
   "display_name": "Python 3",
   "language": "python",
   "name": "python3"
  },
  "language_info": {
   "codemirror_mode": {
    "name": "ipython",
    "version": 3
   },
   "file_extension": ".py",
   "mimetype": "text/x-python",
   "name": "python",
   "nbconvert_exporter": "python",
   "pygments_lexer": "ipython3",
   "version": "3.10.13"
  }
 },
 "nbformat": 4,
 "nbformat_minor": 2
}
