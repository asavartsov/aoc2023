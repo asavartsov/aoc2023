{
 "cells": [
  {
   "cell_type": "code",
   "execution_count": 26,
   "metadata": {},
   "outputs": [
    {
     "data": {
      "text/plain": [
       "1931"
      ]
     },
     "execution_count": 26,
     "metadata": {},
     "output_type": "execute_result"
    }
   ],
   "source": [
    "import re\n",
    "\n",
    "sum = 0\n",
    "colors = {'red': 12, 'green': 13, 'blue': 14}\n",
    "\n",
    "with open('data/02.txt', 'r') as file:\n",
    "    for line in file.readlines():\n",
    "        id, rounds = line.split(':')\n",
    "        id = next(map(int, re.findall(r'\\d+', id)))\n",
    "        rounds = rounds.split(';')\n",
    "        fail = False\n",
    "\n",
    "        for round in rounds:\n",
    "            round = [x.strip().split(' ') for x in round.split(',')]\n",
    "\n",
    "            for amount, color in round:\n",
    "                if colors[color] < int(amount):\n",
    "                    fail = True\n",
    "\n",
    "        if not fail:\n",
    "            sum += id\n",
    "\n",
    "sum\n"
   ]
  },
  {
   "cell_type": "code",
   "execution_count": 25,
   "metadata": {},
   "outputs": [
    {
     "data": {
      "text/plain": [
       "83105"
      ]
     },
     "execution_count": 25,
     "metadata": {},
     "output_type": "execute_result"
    }
   ],
   "source": [
    "import re\n",
    "import math\n",
    "\n",
    "sum = 0\n",
    "\n",
    "with open('data/02.txt', 'r') as file:\n",
    "    for line in file.readlines():\n",
    "        id, rounds = line.split(':')\n",
    "        id = next(map(int, re.findall(r'\\d+', id)))\n",
    "        rounds = rounds.split(';')\n",
    "\n",
    "        colors = {'red': 0, 'green': 0, 'blue': 0}\n",
    "        \n",
    "        for round in rounds:\n",
    "            round = [x.strip().split(' ') for x in round.split(',')]\n",
    "\n",
    "            for amount, color in round:\n",
    "                colors[color] = max(int(amount), colors[color])\n",
    "\n",
    "        sum += math.prod(colors.values())\n",
    "        \n",
    "sum"
   ]
  }
 ],
 "metadata": {
  "kernelspec": {
   "display_name": "Python 3",
   "language": "python",
   "name": "python3"
  },
  "language_info": {
   "codemirror_mode": {
    "name": "ipython",
    "version": 3
   },
   "file_extension": ".py",
   "mimetype": "text/x-python",
   "name": "python",
   "nbconvert_exporter": "python",
   "pygments_lexer": "ipython3",
   "version": "3.9.16"
  }
 },
 "nbformat": 4,
 "nbformat_minor": 2
}
