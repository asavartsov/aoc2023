{
 "cells": [
  {
   "cell_type": "code",
   "execution_count": 258,
   "metadata": {},
   "outputs": [],
   "source": [
    "from collections import Counter\n",
    "\n",
    "hands, bids = [], []\n",
    "\n",
    "with open('data/07.txt', 'r') as file:\n",
    "    for line in file.readlines():\n",
    "        hand, bid = line.split(' ')\n",
    "        hands.append(hand)\n",
    "        bids.append(int(bid))\n",
    "\n",
    "all_cards = 'AKQJT98765432'\n",
    "all_scores = ['11111', '1112', '122', '113', '23', '14', '5']\n",
    "\n",
    "def get_type(hand):\n",
    "    cards = sorted(list(Counter(hand).values()))\n",
    "\n",
    "    return all_scores.index(''.join(map(str, cards)))\n",
    "\n",
    "def compare(a, b):\n",
    "    a_type, b_type = get_type(a), get_type(b)\n",
    "\n",
    "    if (a_type == b_type):\n",
    "        for ac, bc in zip(a, b):\n",
    "            if not ac == bc:\n",
    "                return all_cards.index(bc) - all_cards.index(ac)\n",
    "    \n",
    "    return a_type - b_type"
   ]
  },
  {
   "cell_type": "code",
   "execution_count": 259,
   "metadata": {},
   "outputs": [
    {
     "data": {
      "text/plain": [
       "251029473"
      ]
     },
     "execution_count": 259,
     "metadata": {},
     "output_type": "execute_result"
    }
   ],
   "source": [
    "import functools\n",
    "\n",
    "total = 0\n",
    "played = hands.copy()\n",
    "\n",
    "played.sort(key=functools.cmp_to_key(compare))\n",
    "\n",
    "for rank, hand in enumerate(played):\n",
    "    total += (rank + 1) * (bids[hands.index(hand)])\n",
    "\n",
    "total"
   ]
  },
  {
   "cell_type": "code",
   "execution_count": 260,
   "metadata": {},
   "outputs": [],
   "source": [
    "all_cards = 'AKQT98765432J'\n",
    "all_scores = ['11111', '1112', '122', '113', '23', '14', '5']\n",
    "\n",
    "def get_type_joker(hand):\n",
    "    cards = sorted(list(Counter(hand).values()))\n",
    "    jokers = hand.count('J')\n",
    "\n",
    "    if jokers in cards and len(cards) > 1:\n",
    "        cards.remove(jokers)\n",
    "        cards[-1] += jokers\n",
    "\n",
    "    return all_scores.index(''.join(map(str, cards)))\n",
    "\n",
    "def compare_jokers(a, b):\n",
    "    a_type, b_type = get_type_joker(a), get_type_joker(b)\n",
    "\n",
    "    if (a_type == b_type):\n",
    "        for a_card, b_card in zip(a, b):\n",
    "            if not a_card == b_card:\n",
    "                return all_cards.index(b_card) - all_cards.index(a_card)\n",
    "    \n",
    "    return a_type - b_type"
   ]
  },
  {
   "cell_type": "code",
   "execution_count": 261,
   "metadata": {},
   "outputs": [
    {
     "data": {
      "text/plain": [
       "251003917"
      ]
     },
     "execution_count": 261,
     "metadata": {},
     "output_type": "execute_result"
    }
   ],
   "source": [
    "import functools\n",
    "\n",
    "total = 0\n",
    "played = hands.copy()\n",
    "\n",
    "played.sort(key=functools.cmp_to_key(compare_jokers))\n",
    "\n",
    "for rank, hand in enumerate(played):\n",
    "    total += (rank + 1) * (bids[hands.index(hand)])\n",
    "\n",
    "total"
   ]
  }
 ],
 "metadata": {
  "kernelspec": {
   "display_name": "Python 3",
   "language": "python",
   "name": "python3"
  },
  "language_info": {
   "codemirror_mode": {
    "name": "ipython",
    "version": 3
   },
   "file_extension": ".py",
   "mimetype": "text/x-python",
   "name": "python",
   "nbconvert_exporter": "python",
   "pygments_lexer": "ipython3",
   "version": "3.10.13"
  }
 },
 "nbformat": 4,
 "nbformat_minor": 2
}
