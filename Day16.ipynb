{
 "cells": [
  {
   "cell_type": "code",
   "execution_count": 31,
   "metadata": {},
   "outputs": [
    {
     "data": {
      "text/plain": [
       "6622"
      ]
     },
     "execution_count": 31,
     "metadata": {},
     "output_type": "execute_result"
    }
   ],
   "source": [
    "layout = []\n",
    "\n",
    "with open('data/16.txt', 'r') as file:\n",
    "    for line in file.read().splitlines():\n",
    "        layout.append(['.-|/\\\\'.index(x) for x in line])\n",
    "\n",
    "w, h = len(layout[0]), len(layout)\n",
    "\n",
    "directions = {\n",
    "    # dir          .         -         |        /         \\ \n",
    "    ( 0,  1): [( 0,  1), ( 0,  1),   False, (-1,  0), ( 1,  0)], # >\n",
    "    ( 0, -1): [( 0, -1), ( 0, -1),   False, ( 1,  0), (-1,  0)], # <\n",
    "    ( 1,  0): [( 1,  0),   False, ( 1,  0), ( 0, -1), ( 0,  1)], # v\n",
    "    (-1,  0): [(-1,  0),   False, (-1,  0), ( 0,  1), ( 0, -1)], # ^\n",
    "}\n",
    "\n",
    "splits = {\n",
    "    ( 0,  1): [( 1,  0), (-1,  0)],\n",
    "    ( 0, -1): [( 1,  0), (-1,  0)],\n",
    "    ( 1,  0): [( 0,  1), ( 0, -1)],\n",
    "    (-1,  0): [( 0,  1), ( 0, -1)],\n",
    "}\n",
    "\n",
    "def at(y, x):\n",
    "    return layout[y][x]\n",
    "\n",
    "def add(a, b):\n",
    "    return a[0] + b[0], a[1] + b[1]\n",
    "\n",
    "def in_bounds(y, x):\n",
    "    return y >= 0 and y < h and x >= 0 and x < w\n",
    "\n",
    "def energized(history):\n",
    "    return len(set(p for (p, _) in history))\n",
    "\n",
    "def beam(position, direction, history):\n",
    "    while in_bounds(*position) and not (position, direction) in history:\n",
    "        history.add((position, direction))\n",
    "\n",
    "        if d := directions[direction][at(*position)]:\n",
    "            direction, position = d, add(position, d)\n",
    "        else:\n",
    "            beam(position, splits[direction][0], history)\n",
    "            beam(position, splits[direction][1], history)\n",
    "\n",
    "    return history\n",
    "\n",
    "history = beam((0, 0), (0, 1), set())\n",
    "energized(history)"
   ]
  },
  {
   "cell_type": "code",
   "execution_count": 32,
   "metadata": {},
   "outputs": [
    {
     "data": {
      "text/plain": [
       "7130"
      ]
     },
     "execution_count": 32,
     "metadata": {},
     "output_type": "execute_result"
    }
   ],
   "source": [
    "total = []\n",
    "\n",
    "for v in range(h):\n",
    "    history = beam((v, 0), (0, 1), set())\n",
    "    total.append(energized(history))\n",
    "\n",
    "for v in range(h):\n",
    "    history = beam((v, w - 1), (0, -1), set())\n",
    "    total.append(energized(history))\n",
    "\n",
    "for v in range(w):\n",
    "    history = beam((0, v), (1, 0), set())\n",
    "    total.append(energized(history))\n",
    "\n",
    "for v in range(w):\n",
    "    history = beam((h - 1, v), (-1, 0), set())\n",
    "    total.append(energized(history))\n",
    "\n",
    "max(total)"
   ]
  }
 ],
 "metadata": {
  "kernelspec": {
   "display_name": "Python 3",
   "language": "python",
   "name": "python3"
  },
  "language_info": {
   "codemirror_mode": {
    "name": "ipython",
    "version": 3
   },
   "file_extension": ".py",
   "mimetype": "text/x-python",
   "name": "python",
   "nbconvert_exporter": "python",
   "pygments_lexer": "ipython3",
   "version": "3.10.13"
  }
 },
 "nbformat": 4,
 "nbformat_minor": 2
}
