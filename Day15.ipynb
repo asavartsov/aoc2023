{
 "cells": [
  {
   "cell_type": "code",
   "execution_count": 22,
   "metadata": {},
   "outputs": [
    {
     "data": {
      "text/plain": [
       "509167"
      ]
     },
     "execution_count": 22,
     "metadata": {},
     "output_type": "execute_result"
    }
   ],
   "source": [
    "with open('data/15.txt', 'r') as file:\n",
    "    data = file.read().split(',')\n",
    "\n",
    "def hash(string):\n",
    "    current = 0\n",
    "\n",
    "    for char in string:\n",
    "        current += ord(char)\n",
    "        current *= 17\n",
    "        current %= 256\n",
    "    return current\n",
    "\n",
    "sum(map(hash, data))"
   ]
  },
  {
   "cell_type": "code",
   "execution_count": 26,
   "metadata": {},
   "outputs": [
    {
     "data": {
      "text/plain": [
       "259333"
      ]
     },
     "execution_count": 26,
     "metadata": {},
     "output_type": "execute_result"
    }
   ],
   "source": [
    "import re\n",
    "\n",
    "boxes = {}\n",
    "\n",
    "for step in data:\n",
    "    label, op, focal = re.findall(r'([^=]+)([=-])(.*)', step)[0]\n",
    "    box = hash(label)\n",
    "\n",
    "    if not box in boxes:\n",
    "        boxes[box] = {}\n",
    "\n",
    "    if op == '-' and label in boxes[box]:\n",
    "        boxes[box].pop(label)\n",
    "    \n",
    "    if op == '=':\n",
    "        boxes[box][label] = int(focal)\n",
    "\n",
    "power = 0\n",
    "\n",
    "for box, lenses in boxes.items():\n",
    "    for slot, (_, focal) in enumerate(lenses.items()):\n",
    "        power += (box + 1) * (slot + 1) * focal\n",
    "\n",
    "power\n"
   ]
  }
 ],
 "metadata": {
  "kernelspec": {
   "display_name": "Python 3",
   "language": "python",
   "name": "python3"
  },
  "language_info": {
   "codemirror_mode": {
    "name": "ipython",
    "version": 3
   },
   "file_extension": ".py",
   "mimetype": "text/x-python",
   "name": "python",
   "nbconvert_exporter": "python",
   "pygments_lexer": "ipython3",
   "version": "3.10.13"
  }
 },
 "nbformat": 4,
 "nbformat_minor": 2
}
