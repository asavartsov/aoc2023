{
 "cells": [
  {
   "cell_type": "markdown",
   "metadata": {},
   "source": [
    "### Read file"
   ]
  },
  {
   "cell_type": "code",
   "execution_count": 1,
   "metadata": {},
   "outputs": [
    {
     "data": {
      "text/plain": [
       "107951"
      ]
     },
     "execution_count": 1,
     "metadata": {},
     "output_type": "execute_result"
    }
   ],
   "source": [
    "import numpy\n",
    "\n",
    "data = []\n",
    "VOID, CUBE, ROUND = 0, 1, 2\n",
    "\n",
    "with open('data/14.txt', 'r') as file:\n",
    "    for line in file.read().splitlines():\n",
    "        data.append(['.#O'.index(x) for x in line])\n",
    "\n",
    "rocks = numpy.array(data)\n",
    "\n",
    "def tilt():\n",
    "    for (y, x), rock in numpy.ndenumerate(rocks):\n",
    "        if rock == ROUND:\n",
    "            nonzero = numpy.where(rocks[:y, x] != VOID)[-1]\n",
    "            newy = nonzero[-1] + 1 if len(nonzero) else 0\n",
    "            rocks[y, x], rocks[newy, x] = VOID, ROUND\n",
    "\n",
    "def get_score():\n",
    "    score, (rows, _) = 0, rocks.shape\n",
    "\n",
    "    for y, line in enumerate(rocks):\n",
    "        score += len(numpy.where(line == ROUND)[0]) * (rows - y)\n",
    "\n",
    "    return score\n",
    "\n",
    "tilt()\n",
    "get_score()"
   ]
  },
  {
   "cell_type": "code",
   "execution_count": 2,
   "metadata": {},
   "outputs": [
    {
     "data": {
      "text/plain": [
       "95736"
      ]
     },
     "execution_count": 2,
     "metadata": {},
     "output_type": "execute_result"
    }
   ],
   "source": [
    "scores = []\n",
    "\n",
    "for _ in range(200):\n",
    "    for _ in range(4):\n",
    "        tilt()\n",
    "        rocks = numpy.rot90(rocks, k=-1)\n",
    "\n",
    "    scores.append(get_score())\n",
    "\n",
    "scores = numpy.array(scores)\n",
    "(res,) = numpy.where(scores == scores[-1])\n",
    "rs, re = res[-2], res[-1]\n",
    "\n",
    "index = (1000000000 - rs) % (re - rs) + rs - 1\n",
    "scores[index]"
   ]
  }
 ],
 "metadata": {
  "kernelspec": {
   "display_name": "Python 3",
   "language": "python",
   "name": "python3"
  },
  "language_info": {
   "codemirror_mode": {
    "name": "ipython",
    "version": 3
   },
   "file_extension": ".py",
   "mimetype": "text/x-python",
   "name": "python",
   "nbconvert_exporter": "python",
   "pygments_lexer": "ipython3",
   "version": "3.11.5"
  }
 },
 "nbformat": 4,
 "nbformat_minor": 2
}
