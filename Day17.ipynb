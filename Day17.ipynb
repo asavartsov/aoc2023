{
 "cells": [
  {
   "cell_type": "code",
   "execution_count": 494,
   "metadata": {},
   "outputs": [],
   "source": [
    "layout = []\n",
    "\n",
    "with open('data/17.txt', 'r') as file:\n",
    "    for line in file.read().splitlines():\n",
    "        layout.append([int(x) for x in line])\n",
    "\n",
    "w, h = len(layout[0]), len(layout)\n",
    "\n",
    "def at(y, x):\n",
    "    return layout[y][x]\n",
    "\n",
    "def add(a, b):\n",
    "    return a[0] + b[0], a[1] + b[1]\n",
    "\n",
    "def in_bounds(y, x):\n",
    "    return y >= 0 and y < h and x >= 0 and x < w\n"
   ]
  },
  {
   "cell_type": "code",
   "execution_count": 495,
   "metadata": {},
   "outputs": [
    {
     "data": {
      "text/plain": [
       "(665, 886)"
      ]
     },
     "execution_count": 495,
     "metadata": {},
     "output_type": "execute_result"
    }
   ],
   "source": [
    "import heapq\n",
    "\n",
    "directions = {\n",
    "    #   dir    straight    left      right\n",
    "    ( 0,  1): [( 0,  1), (-1,  0), ( 1,  0)], # >\n",
    "    ( 0, -1): [( 0, -1), ( 1,  0), (-1,  0)], # <\n",
    "    ( 1,  0): [( 1,  0), ( 0,  1), ( 0, -1)], # v\n",
    "    (-1,  0): [(-1,  0), ( 0, -1), ( 0,  1)], # ^\n",
    "}\n",
    "\n",
    "def neighbours(position, direction):\n",
    "    for d in directions[direction]:\n",
    "        p = add(position, d)\n",
    "\n",
    "        if in_bounds(*p):\n",
    "            yield p, d, at(*p)\n",
    "\n",
    "def dijkstra(_max, _min=0):\n",
    "    visited = set()\n",
    "    queue = [\n",
    "        (at(0, 1), (0, 1), (0, 1), 1), # . >\n",
    "        (at(1, 0), (1, 0), (1, 0), 1), # v\n",
    "    ]\n",
    "\n",
    "    while queue:\n",
    "        loss, position, direction, steps = heapq.heappop(queue)\n",
    "\n",
    "        if position == (h - 1, w - 1):\n",
    "            return loss\n",
    "        \n",
    "        if (position, direction, steps) in visited:\n",
    "            continue\n",
    "\n",
    "        visited.add((position, direction, steps))\n",
    "\n",
    "        for p, d, l in neighbours(position, direction):\n",
    "            if d == direction:\n",
    "                if steps < _max:\n",
    "                    heapq.heappush(queue, (l + loss, p, d, steps + 1))\n",
    "            else:\n",
    "                if steps >= _min:\n",
    "                    heapq.heappush(queue, (l + loss, p, d, 1))\n",
    "\n",
    "\n",
    "dijkstra(3), dijkstra(10, 4)"
   ]
  }
 ],
 "metadata": {
  "kernelspec": {
   "display_name": "Python 3",
   "language": "python",
   "name": "python3"
  },
  "language_info": {
   "codemirror_mode": {
    "name": "ipython",
    "version": 3
   },
   "file_extension": ".py",
   "mimetype": "text/x-python",
   "name": "python",
   "nbconvert_exporter": "python",
   "pygments_lexer": "ipython3",
   "version": "3.10.13"
  }
 },
 "nbformat": 4,
 "nbformat_minor": 2
}
