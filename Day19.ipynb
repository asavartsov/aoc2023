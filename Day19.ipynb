{
 "cells": [
  {
   "cell_type": "code",
   "execution_count": 296,
   "metadata": {},
   "outputs": [],
   "source": [
    "import re\n",
    "\n",
    "parts = []\n",
    "workflows = {}\n",
    "\n",
    "with open('data/19.txt', 'r') as file:\n",
    "    data = file.read().splitlines()\n",
    "    w, p = data[:data.index('')], data[data.index('') + 1:]\n",
    "\n",
    "    for line in w:\n",
    "        rule, conditions = re.findall(r'(\\w+)\\{(.*)\\}', line)[0]\n",
    "        conditions = [x.split(':') for x in conditions.split(',')]\n",
    "        workflows[rule] = conditions\n",
    "\n",
    "    for line in p:\n",
    "        part = dict((p, int(v)) for p, v in re.findall(r'(\\w)=(\\d+)', line))\n",
    "        parts.append(part)"
   ]
  },
  {
   "cell_type": "code",
   "execution_count": 297,
   "metadata": {},
   "outputs": [
    {
     "data": {
      "text/plain": [
       "492702"
      ]
     },
     "execution_count": 297,
     "metadata": {},
     "output_type": "execute_result"
    }
   ],
   "source": [
    "def check(rule, part):\n",
    "    match len(rule):\n",
    "        case 1: return True\n",
    "        case 2:\n",
    "            (rule, _), key = rule, rule[0][0]\n",
    "            return eval(rule.replace(key, str(part[key])))\n",
    "\n",
    "def apply(workflow, part):\n",
    "    for rule in workflows[workflow]:\n",
    "        if (check(rule, part)):\n",
    "            return rule[-1]\n",
    "\n",
    "total = 0\n",
    "\n",
    "for part in parts:\n",
    "    next = apply('in', part)\n",
    "\n",
    "    while not next in ['A', 'R']:\n",
    "        next = apply(next, part)\n",
    "\n",
    "    if next == 'A':\n",
    "        total += sum(part.values())\n",
    "\n",
    "total"
   ]
  },
  {
   "cell_type": "code",
   "execution_count": 298,
   "metadata": {},
   "outputs": [],
   "source": [
    "def new_part(part, key, values):\n",
    "    part = part.copy()\n",
    "    part[key] = values\n",
    "    return part\n",
    "\n",
    "def new_parts(current, rule, part):\n",
    "    rule, next = rule\n",
    "    key, sign, value = rule[0], rule[1], int(rule[2:])\n",
    "    start, end = part[key]\n",
    "\n",
    "    if sign == '>':\n",
    "        s, e = max(value + 1, start), max(value - 1, end)\n",
    "    else:\n",
    "        s, e = min(value, start), min(value - 1, end)\n",
    "\n",
    "    if s < e:\n",
    "        # Move to the next workflow with matching range\n",
    "        yield next, new_part(part, key, [s, e])\n",
    "\n",
    "        # Check current workflow again with ranges that not match\n",
    "        if start < s:\n",
    "            yield current, new_part(part, key, [start, s - 1])\n",
    "        \n",
    "        if e < end:\n",
    "            yield current, new_part(part, key, [e + 1, end])\n",
    "\n",
    "def check(current, rule, part):\n",
    "    match len(rule):\n",
    "        case 1: return [(rule[0], part)]\n",
    "        case 2: return [*new_parts(current, rule, part)]\n",
    "\n",
    "def apply(workflow, part):\n",
    "    for rule in workflows[workflow]:\n",
    "        if result := check(workflow, rule, part):\n",
    "            return result"
   ]
  },
  {
   "cell_type": "code",
   "execution_count": 299,
   "metadata": {},
   "outputs": [
    {
     "data": {
      "text/plain": [
       "138616621185978"
      ]
     },
     "execution_count": 299,
     "metadata": {},
     "output_type": "execute_result"
    }
   ],
   "source": [
    "import math\n",
    "\n",
    "part = { 'x': [1, 4000],'m': [1, 4000],'a': [1, 4000],'s': [1, 4000]}\n",
    "\n",
    "combinations = 0\n",
    "queue = [('in', part)]\n",
    "\n",
    "while queue:\n",
    "    workflow, part = queue.pop()\n",
    "\n",
    "    if workflow in 'AR':\n",
    "        if workflow == 'A':\n",
    "            combinations += math.prod(end - start + 1 for start, end in part.values())\n",
    "        continue\n",
    "    \n",
    "    for w, p in apply(workflow, part):\n",
    "        queue.append((w, p))\n",
    "\n",
    "combinations"
   ]
  }
 ],
 "metadata": {
  "kernelspec": {
   "display_name": "Python 3",
   "language": "python",
   "name": "python3"
  },
  "language_info": {
   "codemirror_mode": {
    "name": "ipython",
    "version": 3
   },
   "file_extension": ".py",
   "mimetype": "text/x-python",
   "name": "python",
   "nbconvert_exporter": "python",
   "pygments_lexer": "ipython3",
   "version": "3.10.13"
  }
 },
 "nbformat": 4,
 "nbformat_minor": 2
}
