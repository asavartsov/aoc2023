{
 "cells": [
  {
   "cell_type": "code",
   "execution_count": 108,
   "metadata": {},
   "outputs": [],
   "source": [
    "import re\n",
    "\n",
    "with open('data/08.txt', 'r') as file:\n",
    "    data = file.read().splitlines()\n",
    "\n",
    "instructions = list(map(lambda x: 0 if x == 'L' else 1, data[0]))\n",
    "nodes = {}\n",
    "\n",
    "for line in data[2:]:\n",
    "    node = re.findall(r'([\\dA-Z]+) = \\(([\\dA-Z]+), ([\\dA-Z]+)', line)[0]\n",
    "    nodes[node[0]] = node[1:]"
   ]
  },
  {
   "cell_type": "code",
   "execution_count": 109,
   "metadata": {},
   "outputs": [
    {
     "data": {
      "text/plain": [
       "19099"
      ]
     },
     "execution_count": 109,
     "metadata": {},
     "output_type": "execute_result"
    }
   ],
   "source": [
    "current = 'AAA'\n",
    "steps = 0\n",
    "\n",
    "while current != 'ZZZ':\n",
    "    instruction = instructions[steps % len(instructions)]\n",
    "    current = nodes[current][instruction]\n",
    "    steps += 1\n",
    "\n",
    "steps"
   ]
  },
  {
   "cell_type": "code",
   "execution_count": 110,
   "metadata": {},
   "outputs": [
    {
     "data": {
      "text/plain": [
       "17099847107071"
      ]
     },
     "execution_count": 110,
     "metadata": {},
     "output_type": "execute_result"
    }
   ],
   "source": [
    "import math\n",
    "\n",
    "def get_steps(current):\n",
    "    steps = 0\n",
    "\n",
    "    while current[-1] != 'Z':\n",
    "        instruction = instructions[steps % len(instructions)]\n",
    "        current = nodes[current][instruction]\n",
    "        steps += 1\n",
    "\n",
    "    return steps\n",
    "\n",
    "\n",
    "current = list(filter(lambda x: x[-1] == 'A', nodes.keys()))\n",
    "math.lcm(*map(get_steps, current))"
   ]
  }
 ],
 "metadata": {
  "kernelspec": {
   "display_name": "Python 3",
   "language": "python",
   "name": "python3"
  },
  "language_info": {
   "codemirror_mode": {
    "name": "ipython",
    "version": 3
   },
   "file_extension": ".py",
   "mimetype": "text/x-python",
   "name": "python",
   "nbconvert_exporter": "python",
   "pygments_lexer": "ipython3",
   "version": "3.10.13"
  }
 },
 "nbformat": 4,
 "nbformat_minor": 2
}
