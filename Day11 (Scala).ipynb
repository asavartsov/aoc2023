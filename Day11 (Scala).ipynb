{
 "cells": [
  {
   "cell_type": "code",
   "execution_count": null,
   "metadata": {},
   "outputs": [],
   "source": [
    "import scala.io.Source\n",
    "\n",
    "val file = Source.fromFile(\"data/11.txt\")\n",
    "val data = file.getLines.filter(_.nonEmpty)\n",
    "\n",
    "case class Point(x: Int, y: Int)\n",
    "type Space = Seq[Seq[Boolean]]\n",
    "\n",
    "def zeroIndicies(space: Space) =\n",
    "    for ((row, index) <- space.zipWithIndex if row.forall(!_)) yield index\n",
    "\n",
    "def distance(points: Point*) = points match\n",
    "    case Seq(a, b) => BigInt((a.x - b.x).abs + (a.y - b.y).abs)\n",
    "\n",
    "def dilate(a: Point, times: Int, rows: Seq[Int], cols: Seq[Int]) =\n",
    "    val x = a.x + rows.count(_ < a.x) * (times - 1)\n",
    "    val y = a.y + cols.count(_ < a.y) * (times - 1)\n",
    "    Point(x, y)\n",
    "\n",
    "val space = data.map(_.map(_ == '#')).toList\n",
    "val galaxies = space.zipWithIndex.flatMap((row, x) => for (v, y) <- row.zipWithIndex if v yield Point(x, y))\n",
    "\n",
    "val rows = zeroIndicies(space)\n",
    "val cols = zeroIndicies(space.transpose)"
   ]
  },
  {
   "cell_type": "code",
   "execution_count": 44,
   "metadata": {},
   "outputs": [
    {
     "data": {
      "text/plain": [
       "\u001b[36mres44_0\u001b[39m: \u001b[32mBigInt\u001b[39m = 9609130\n",
       "\u001b[36mres44_1\u001b[39m: \u001b[32mBigInt\u001b[39m = 702152204842"
      ]
     },
     "execution_count": 44,
     "metadata": {},
     "output_type": "execute_result"
    }
   ],
   "source": [
    "galaxies.map(dilate(_, 2, rows, cols)).combinations(2).map(distance).sum\n",
    "galaxies.map(dilate(_, 1000000, rows, cols)).combinations(2).map(distance).sum"
   ]
  }
 ],
 "metadata": {
  "kernelspec": {
   "display_name": "Scala",
   "language": "scala",
   "name": "scala"
  },
  "language_info": {
   "codemirror_mode": "text/x-scala",
   "file_extension": ".sc",
   "mimetype": "text/x-scala",
   "name": "scala",
   "nbconvert_exporter": "script",
   "version": "2.13.12"
  }
 },
 "nbformat": 4,
 "nbformat_minor": 2
}
