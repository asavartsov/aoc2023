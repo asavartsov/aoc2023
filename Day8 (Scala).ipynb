{
 "cells": [
  {
   "cell_type": "code",
   "execution_count": null,
   "metadata": {
    "editable": true,
    "scrolled": true,
    "slideshow": {
     "slide_type": ""
    },
    "tags": []
   },
   "outputs": [],
   "source": [
    "import scala.io.Source\n",
    "\n",
    "val file = Source.fromFile(\"data/08.txt\")\n",
    "val data = file.getLines.filter(_.nonEmpty)\n",
    "\n",
    "val instructions = data.next.map(\"LR\".indexOf(_)).to(LazyList)\n",
    "val nodes = (for (line <- data.map(_.split(\"[^\\\\dA-Z]+\"))) yield (line(0) -> line.drop(1))).toMap"
   ]
  },
  {
   "cell_type": "code",
   "execution_count": 5,
   "metadata": {},
   "outputs": [
    {
     "data": {
      "text/plain": [
       "defined \u001b[32mfunction\u001b[39m \u001b[36mcycle\u001b[39m\n",
       "defined \u001b[32mfunction\u001b[39m \u001b[36mwalk\u001b[39m\n",
       "defined \u001b[32mfunction\u001b[39m \u001b[36msteps\u001b[39m\n",
       "\u001b[36mres5_3\u001b[39m: \u001b[32mInt\u001b[39m = \u001b[32m19099\u001b[39m"
      ]
     },
     "execution_count": 5,
     "metadata": {},
     "output_type": "execute_result"
    }
   ],
   "source": [
    "def cycle[T](items: LazyList[T]): LazyList[T] =\n",
    "    items  #::: cycle(items)\n",
    "\n",
    "def walk(position: String, directions: Iterator[Int]): LazyList[String] =\n",
    "    position #:: walk(nodes(position)(directions.next), directions)\n",
    "\n",
    "def steps(start: String, end: String): Int =\n",
    "    walk(start, cycle(instructions).iterator).takeWhile(!_.endsWith(end)).size\n",
    "\n",
    "steps(\"AAA\", \"ZZZ\")"
   ]
  },
  {
   "cell_type": "code",
   "execution_count": 6,
   "metadata": {},
   "outputs": [
    {
     "data": {
      "text/plain": [
       "defined \u001b[32mfunction\u001b[39m \u001b[36mgcd\u001b[39m\n",
       "defined \u001b[32mfunction\u001b[39m \u001b[36mlcm\u001b[39m\n",
       "\u001b[36mres6_2\u001b[39m: \u001b[32mBigInt\u001b[39m = 17099847107071"
      ]
     },
     "execution_count": 6,
     "metadata": {},
     "output_type": "execute_result"
    }
   ],
   "source": [
    "def gcd(a: BigInt, b: BigInt): BigInt = if (b == 0) a else gcd(b, a % b)\n",
    "def lcm(a: BigInt, b: BigInt): BigInt = a * b / gcd(a, b)\n",
    "\n",
    "nodes.keys.filter(_.endsWith(\"A\")).map(steps(_, \"Z\")).map(BigInt(_)).reduce(lcm)"
   ]
  }
 ],
 "metadata": {
  "kernelspec": {
   "display_name": "Scala",
   "language": "scala",
   "name": "scala"
  },
  "language_info": {
   "codemirror_mode": "text/x-scala",
   "file_extension": ".sc",
   "mimetype": "text/x-scala",
   "name": "scala",
   "nbconvert_exporter": "script",
   "version": "2.13.12"
  }
 },
 "nbformat": 4,
 "nbformat_minor": 4
}
